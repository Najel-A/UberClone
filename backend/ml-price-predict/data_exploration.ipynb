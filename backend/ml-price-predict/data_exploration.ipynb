{
 "cells": [
  {
   "cell_type": "markdown",
   "id": "7bcf541b",
   "metadata": {},
   "source": [
    "# Load dataset"
   ]
  },
  {
   "cell_type": "code",
   "execution_count": 20,
   "id": "9a696f7d",
   "metadata": {},
   "outputs": [
    {
     "name": "stdout",
     "output_type": "stream",
     "text": [
      "   Unnamed: 0                            key  fare_amount  \\\n",
      "0    24238194    2015-05-07 19:52:06.0000003          7.5   \n",
      "1    27835199    2009-07-17 20:04:56.0000002          7.7   \n",
      "2    44984355   2009-08-24 21:45:00.00000061         12.9   \n",
      "3    25894730    2009-06-26 08:22:21.0000001          5.3   \n",
      "4    17610152  2014-08-28 17:47:00.000000188         16.0   \n",
      "\n",
      "           pickup_datetime  pickup_longitude  pickup_latitude  \\\n",
      "0  2015-05-07 19:52:06 UTC        -73.999817        40.738354   \n",
      "1  2009-07-17 20:04:56 UTC        -73.994355        40.728225   \n",
      "2  2009-08-24 21:45:00 UTC        -74.005043        40.740770   \n",
      "3  2009-06-26 08:22:21 UTC        -73.976124        40.790844   \n",
      "4  2014-08-28 17:47:00 UTC        -73.925023        40.744085   \n",
      "\n",
      "   dropoff_longitude  dropoff_latitude  passenger_count  \n",
      "0         -73.999512         40.723217                1  \n",
      "1         -73.994710         40.750325                1  \n",
      "2         -73.962565         40.772647                1  \n",
      "3         -73.965316         40.803349                3  \n",
      "4         -73.973082         40.761247                5  \n"
     ]
    }
   ],
   "source": [
    "import pandas as pd\n",
    "\n",
    "data = pd.read_csv('uber.csv')\n",
    "\n",
    "print(data.head())"
   ]
  },
  {
   "cell_type": "markdown",
   "id": "3f68da9b",
   "metadata": {},
   "source": [
    "# Clean dataset"
   ]
  },
  {
   "cell_type": "code",
   "execution_count": 21,
   "id": "862cfe29",
   "metadata": {},
   "outputs": [],
   "source": [
    "data = data.drop(columns=['Unnamed: 0'], errors='ignore')\n",
    "data = data.dropna()\n",
    "\n",
    "valid_longitude_range = (-180, 180)\n",
    "valid_latitude_range = (-90, 90)\n",
    "\n",
    "data = data[\n",
    "    (data['pickup_longitude'].between(*valid_longitude_range)) &\n",
    "    (data['pickup_latitude'].between(*valid_latitude_range)) &\n",
    "    (data['dropoff_longitude'].between(*valid_longitude_range)) &\n",
    "    (data['dropoff_latitude'].between(*valid_latitude_range))\n",
    "]\n",
    "\n",
    "data = data[(data['fare_amount'] <= 1000) & (data['fare_amount'] >= 0)]"
   ]
  },
  {
   "cell_type": "markdown",
   "id": "73ee3253",
   "metadata": {},
   "source": [
    "# Display dataset information"
   ]
  },
  {
   "cell_type": "code",
   "execution_count": 22,
   "id": "dc0cb70b",
   "metadata": {},
   "outputs": [
    {
     "name": "stdout",
     "output_type": "stream",
     "text": [
      "Dataset Info:\n",
      "<class 'pandas.core.frame.DataFrame'>\n",
      "Index: 199970 entries, 0 to 199999\n",
      "Data columns (total 8 columns):\n",
      " #   Column             Non-Null Count   Dtype  \n",
      "---  ------             --------------   -----  \n",
      " 0   key                199970 non-null  object \n",
      " 1   fare_amount        199970 non-null  float64\n",
      " 2   pickup_datetime    199970 non-null  object \n",
      " 3   pickup_longitude   199970 non-null  float64\n",
      " 4   pickup_latitude    199970 non-null  float64\n",
      " 5   dropoff_longitude  199970 non-null  float64\n",
      " 6   dropoff_latitude   199970 non-null  float64\n",
      " 7   passenger_count    199970 non-null  int64  \n",
      "dtypes: float64(5), int64(1), object(2)\n",
      "memory usage: 13.7+ MB\n",
      "None\n"
     ]
    }
   ],
   "source": [
    "print(\"Dataset Info:\")\n",
    "print(data.info())"
   ]
  },
  {
   "cell_type": "markdown",
   "id": "93694663",
   "metadata": {},
   "source": [
    "# Summary statistics"
   ]
  },
  {
   "cell_type": "code",
   "execution_count": 23,
   "id": "65f4e3f7",
   "metadata": {},
   "outputs": [
    {
     "name": "stdout",
     "output_type": "stream",
     "text": [
      "\n",
      "Summary Statistics:\n",
      "         fare_amount  pickup_longitude  pickup_latitude  dropoff_longitude  \\\n",
      "count  199970.000000     199970.000000    199970.000000      199970.000000   \n",
      "mean       11.362259        -72.501661        39.917866         -72.511852   \n",
      "std         9.897210         10.450391         6.130667          10.411364   \n",
      "min         0.000000        -93.824668       -74.015515         -75.458979   \n",
      "25%         6.000000        -73.992065        40.734793         -73.991407   \n",
      "50%         8.500000        -73.981822        40.752592         -73.980092   \n",
      "75%        12.500000        -73.967154        40.767157         -73.963657   \n",
      "max       499.000000         40.808425        48.018760          40.831932   \n",
      "\n",
      "       dropoff_latitude  passenger_count  \n",
      "count     199970.000000    199970.000000  \n",
      "mean          39.922164         1.684503  \n",
      "std            6.117273         1.385981  \n",
      "min          -74.015750         0.000000  \n",
      "25%           40.733824         1.000000  \n",
      "50%           40.753042         1.000000  \n",
      "75%           40.768001         2.000000  \n",
      "max           45.031598       208.000000  \n"
     ]
    }
   ],
   "source": [
    "print(\"\\nSummary Statistics:\")\n",
    "print(data.describe())"
   ]
  },
  {
   "cell_type": "markdown",
   "id": "ef094cb9",
   "metadata": {},
   "source": [
    "# Check columns of interest"
   ]
  },
  {
   "cell_type": "code",
   "execution_count": 24,
   "id": "ed18606f",
   "metadata": {},
   "outputs": [
    {
     "name": "stdout",
     "output_type": "stream",
     "text": [
      "       pickup_longitude  pickup_latitude  dropoff_longitude  dropoff_latitude  \\\n",
      "count     199970.000000    199970.000000      199970.000000     199970.000000   \n",
      "mean         -72.501661        39.917866         -72.511852         39.922164   \n",
      "std           10.450391         6.130667          10.411364          6.117273   \n",
      "min          -93.824668       -74.015515         -75.458979        -74.015750   \n",
      "25%          -73.992065        40.734793         -73.991407         40.733824   \n",
      "50%          -73.981822        40.752592         -73.980092         40.753042   \n",
      "75%          -73.967154        40.767157         -73.963657         40.768001   \n",
      "max           40.808425        48.018760          40.831932         45.031598   \n",
      "\n",
      "       passenger_count    fare_amount  \n",
      "count    199970.000000  199970.000000  \n",
      "mean          1.684503      11.362259  \n",
      "std           1.385981       9.897210  \n",
      "min           0.000000       0.000000  \n",
      "25%           1.000000       6.000000  \n",
      "50%           1.000000       8.500000  \n",
      "75%           2.000000      12.500000  \n",
      "max         208.000000     499.000000  \n"
     ]
    }
   ],
   "source": [
    "columns_of_interest = ['pickup_longitude', 'pickup_latitude', 'dropoff_longitude', 'dropoff_latitude', 'passenger_count', 'fare_amount']\n",
    "\n",
    "if all(col in data.columns for col in columns_of_interest):\n",
    "    print(data[columns_of_interest].describe())\n",
    "else:\n",
    "    print(\"\\nSome columns of interest are missing in the dataset.\")"
   ]
  },
  {
   "cell_type": "markdown",
   "id": "3f04966b",
   "metadata": {},
   "source": [
    "# Processing time feature"
   ]
  },
  {
   "cell_type": "code",
   "execution_count": 15,
   "id": "d9e786c0",
   "metadata": {},
   "outputs": [
    {
     "name": "stdout",
     "output_type": "stream",
     "text": [
      "0    2015-05-07 19:52:06 UTC\n",
      "1    2009-07-17 20:04:56 UTC\n",
      "2    2009-08-24 21:45:00 UTC\n",
      "3    2009-06-26 08:22:21 UTC\n",
      "4    2014-08-28 17:47:00 UTC\n",
      "Name: pickup_datetime, dtype: object\n"
     ]
    }
   ],
   "source": [
    "# Check if the 'pickup_datetime' column exists and print its first few rows\n",
    "if 'pickup_datetime' in data.columns:\n",
    "    print(data['pickup_datetime'].head())\n",
    "else:\n",
    "    print(\"The column 'pickup_datetime' is not present in the dataset.\")"
   ]
  },
  {
   "cell_type": "code",
   "execution_count": 16,
   "id": "9b6100a0",
   "metadata": {},
   "outputs": [
    {
     "name": "stdout",
     "output_type": "stream",
     "text": [
      "   hour  day_of_week\n",
      "0    19            3\n",
      "1    20            4\n",
      "2    21            0\n",
      "3     8            4\n",
      "4    17            3\n",
      "count    199970.000000\n",
      "mean         13.491504\n",
      "std           6.515409\n",
      "min           0.000000\n",
      "25%           9.000000\n",
      "50%          14.000000\n",
      "75%          19.000000\n",
      "max          23.000000\n",
      "Name: hour, dtype: float64\n",
      "count    199970.000000\n",
      "mean          3.048422\n",
      "std           1.946984\n",
      "min           0.000000\n",
      "25%           1.000000\n",
      "50%           3.000000\n",
      "75%           5.000000\n",
      "max           6.000000\n",
      "Name: day_of_week, dtype: float64\n"
     ]
    }
   ],
   "source": [
    "data['pickup_datetime'] = pd.to_datetime(data['pickup_datetime'], errors='coerce')\n",
    "data['hour'] = data['pickup_datetime'].dt.hour \n",
    "data['day_of_week'] = data['pickup_datetime'].dt.dayofweek \n",
    "\n",
    "print(data[['hour', 'day_of_week']].head())\n",
    "print(data['hour'].describe())\n",
    "print(data['day_of_week'].describe())"
   ]
  }
 ],
 "metadata": {
  "kernelspec": {
   "display_name": "Python (myenv)",
   "language": "python",
   "name": "myenv"
  },
  "language_info": {
   "codemirror_mode": {
    "name": "ipython",
    "version": 3
   },
   "file_extension": ".py",
   "mimetype": "text/x-python",
   "name": "python",
   "nbconvert_exporter": "python",
   "pygments_lexer": "ipython3",
   "version": "3.12.3"
  }
 },
 "nbformat": 4,
 "nbformat_minor": 5
}
